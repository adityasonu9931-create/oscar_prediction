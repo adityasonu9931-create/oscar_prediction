{
 "cells": [
  {
   "cell_type": "markdown",
   "id": "903be291",
   "metadata": {},
   "source": [
    "# TECH_OSCAR PREDICTION MODEL"
   ]
  },
  {
   "cell_type": "code",
   "execution_count": 100,
   "id": "a38d707a",
   "metadata": {},
   "outputs": [],
   "source": [
    "#Import the libraries:\n",
    "import pandas as pd\n",
    "import numpy as np\n",
    "import matplotlib.pyplot as plt\n",
    "import seaborn as sns\n",
    "from sklearn.model_selection import train_test_split, cross_val_score\n",
    "from sklearn.preprocessing import StandardScaler\n",
    "from sklearn.neighbors import KNeighborsClassifier\n",
    "from sklearn.metrics import classification_report, accuracy_score"
   ]
  },
  {
   "cell_type": "code",
   "execution_count": 101,
   "id": "1553ffca",
   "metadata": {},
   "outputs": [],
   "source": [
    "# Load the dataset\n",
    "file_path = 'data set for oscar.csv'\n",
    "df = pd.read_csv(file_path)"
   ]
  },
  {
   "cell_type": "code",
   "execution_count": 102,
   "id": "2321cc7e",
   "metadata": {},
   "outputs": [
    {
     "data": {
      "text/html": [
       "<div>\n",
       "<style scoped>\n",
       "    .dataframe tbody tr th:only-of-type {\n",
       "        vertical-align: middle;\n",
       "    }\n",
       "\n",
       "    .dataframe tbody tr th {\n",
       "        vertical-align: top;\n",
       "    }\n",
       "\n",
       "    .dataframe thead th {\n",
       "        text-align: right;\n",
       "    }\n",
       "</style>\n",
       "<table border=\"1\" class=\"dataframe\">\n",
       "  <thead>\n",
       "    <tr style=\"text-align: right;\">\n",
       "      <th></th>\n",
       "      <th>Marketing expense</th>\n",
       "      <th>Production expense</th>\n",
       "      <th>Multiplex coverage</th>\n",
       "      <th>Budget</th>\n",
       "      <th>Movie_length</th>\n",
       "      <th>Lead_ Actor_Rating</th>\n",
       "      <th>Lead_Actress_rating</th>\n",
       "      <th>Director_rating</th>\n",
       "      <th>Producer_rating</th>\n",
       "      <th>Critic_rating</th>\n",
       "      <th>Trailer_views</th>\n",
       "      <th>3D_available</th>\n",
       "      <th>Time_taken</th>\n",
       "      <th>Twitter_hastags</th>\n",
       "      <th>Genre</th>\n",
       "      <th>Avg_age_actors</th>\n",
       "      <th>Num_multiplex</th>\n",
       "      <th>Collection</th>\n",
       "      <th>Tech_Oscar</th>\n",
       "    </tr>\n",
       "  </thead>\n",
       "  <tbody>\n",
       "    <tr>\n",
       "      <th>0</th>\n",
       "      <td>20.1264</td>\n",
       "      <td>59.62</td>\n",
       "      <td>0.462</td>\n",
       "      <td>36524.125</td>\n",
       "      <td>138.7</td>\n",
       "      <td>7.825</td>\n",
       "      <td>8.095</td>\n",
       "      <td>7.910</td>\n",
       "      <td>7.995</td>\n",
       "      <td>7.94</td>\n",
       "      <td>527367</td>\n",
       "      <td>YES</td>\n",
       "      <td>109.60</td>\n",
       "      <td>223.840</td>\n",
       "      <td>Thriller</td>\n",
       "      <td>23</td>\n",
       "      <td>494</td>\n",
       "      <td>48000</td>\n",
       "      <td>1</td>\n",
       "    </tr>\n",
       "    <tr>\n",
       "      <th>1</th>\n",
       "      <td>20.5462</td>\n",
       "      <td>69.14</td>\n",
       "      <td>0.531</td>\n",
       "      <td>35668.655</td>\n",
       "      <td>152.4</td>\n",
       "      <td>7.505</td>\n",
       "      <td>7.650</td>\n",
       "      <td>7.440</td>\n",
       "      <td>7.470</td>\n",
       "      <td>7.44</td>\n",
       "      <td>494055</td>\n",
       "      <td>NO</td>\n",
       "      <td>146.64</td>\n",
       "      <td>243.456</td>\n",
       "      <td>Drama</td>\n",
       "      <td>42</td>\n",
       "      <td>462</td>\n",
       "      <td>43200</td>\n",
       "      <td>0</td>\n",
       "    </tr>\n",
       "    <tr>\n",
       "      <th>2</th>\n",
       "      <td>20.5458</td>\n",
       "      <td>69.14</td>\n",
       "      <td>0.531</td>\n",
       "      <td>39912.675</td>\n",
       "      <td>134.6</td>\n",
       "      <td>7.485</td>\n",
       "      <td>7.570</td>\n",
       "      <td>7.495</td>\n",
       "      <td>7.515</td>\n",
       "      <td>7.44</td>\n",
       "      <td>547051</td>\n",
       "      <td>NO</td>\n",
       "      <td>147.88</td>\n",
       "      <td>2022.400</td>\n",
       "      <td>Comedy</td>\n",
       "      <td>38</td>\n",
       "      <td>458</td>\n",
       "      <td>69400</td>\n",
       "      <td>1</td>\n",
       "    </tr>\n",
       "    <tr>\n",
       "      <th>3</th>\n",
       "      <td>20.6474</td>\n",
       "      <td>59.36</td>\n",
       "      <td>0.542</td>\n",
       "      <td>38873.890</td>\n",
       "      <td>119.3</td>\n",
       "      <td>6.895</td>\n",
       "      <td>7.035</td>\n",
       "      <td>6.920</td>\n",
       "      <td>7.020</td>\n",
       "      <td>8.26</td>\n",
       "      <td>516279</td>\n",
       "      <td>YES</td>\n",
       "      <td>185.36</td>\n",
       "      <td>225.344</td>\n",
       "      <td>Drama</td>\n",
       "      <td>45</td>\n",
       "      <td>472</td>\n",
       "      <td>66800</td>\n",
       "      <td>1</td>\n",
       "    </tr>\n",
       "    <tr>\n",
       "      <th>4</th>\n",
       "      <td>21.3810</td>\n",
       "      <td>59.36</td>\n",
       "      <td>0.542</td>\n",
       "      <td>39701.585</td>\n",
       "      <td>127.7</td>\n",
       "      <td>6.920</td>\n",
       "      <td>7.070</td>\n",
       "      <td>6.815</td>\n",
       "      <td>7.070</td>\n",
       "      <td>8.26</td>\n",
       "      <td>531448</td>\n",
       "      <td>NO</td>\n",
       "      <td>176.48</td>\n",
       "      <td>225.792</td>\n",
       "      <td>Drama</td>\n",
       "      <td>55</td>\n",
       "      <td>395</td>\n",
       "      <td>72400</td>\n",
       "      <td>1</td>\n",
       "    </tr>\n",
       "  </tbody>\n",
       "</table>\n",
       "</div>"
      ],
      "text/plain": [
       "   Marketing expense  Production expense  Multiplex coverage     Budget  \\\n",
       "0            20.1264               59.62               0.462  36524.125   \n",
       "1            20.5462               69.14               0.531  35668.655   \n",
       "2            20.5458               69.14               0.531  39912.675   \n",
       "3            20.6474               59.36               0.542  38873.890   \n",
       "4            21.3810               59.36               0.542  39701.585   \n",
       "\n",
       "   Movie_length  Lead_ Actor_Rating  Lead_Actress_rating  Director_rating  \\\n",
       "0         138.7               7.825                8.095            7.910   \n",
       "1         152.4               7.505                7.650            7.440   \n",
       "2         134.6               7.485                7.570            7.495   \n",
       "3         119.3               6.895                7.035            6.920   \n",
       "4         127.7               6.920                7.070            6.815   \n",
       "\n",
       "   Producer_rating  Critic_rating  Trailer_views 3D_available  Time_taken  \\\n",
       "0            7.995           7.94         527367          YES      109.60   \n",
       "1            7.470           7.44         494055           NO      146.64   \n",
       "2            7.515           7.44         547051           NO      147.88   \n",
       "3            7.020           8.26         516279          YES      185.36   \n",
       "4            7.070           8.26         531448           NO      176.48   \n",
       "\n",
       "   Twitter_hastags     Genre  Avg_age_actors  Num_multiplex  Collection  \\\n",
       "0          223.840  Thriller              23            494       48000   \n",
       "1          243.456     Drama              42            462       43200   \n",
       "2         2022.400    Comedy              38            458       69400   \n",
       "3          225.344     Drama              45            472       66800   \n",
       "4          225.792     Drama              55            395       72400   \n",
       "\n",
       "   Tech_Oscar  \n",
       "0           1  \n",
       "1           0  \n",
       "2           1  \n",
       "3           1  \n",
       "4           1  "
      ]
     },
     "execution_count": 102,
     "metadata": {},
     "output_type": "execute_result"
    }
   ],
   "source": [
    "# Display the first few rows and basic info of the dataset\n",
    "df.head()"
   ]
  },
  {
   "cell_type": "code",
   "execution_count": 103,
   "id": "6f435bb7",
   "metadata": {},
   "outputs": [
    {
     "name": "stdout",
     "output_type": "stream",
     "text": [
      "<class 'pandas.core.frame.DataFrame'>\n",
      "RangeIndex: 513 entries, 0 to 512\n",
      "Data columns (total 19 columns):\n",
      " #   Column               Non-Null Count  Dtype  \n",
      "---  ------               --------------  -----  \n",
      " 0   Marketing expense    513 non-null    float64\n",
      " 1   Production expense   513 non-null    float64\n",
      " 2   Multiplex coverage   513 non-null    float64\n",
      " 3   Budget               501 non-null    float64\n",
      " 4   Movie_length         513 non-null    float64\n",
      " 5   Lead_ Actor_Rating   513 non-null    float64\n",
      " 6   Lead_Actress_rating  508 non-null    float64\n",
      " 7   Director_rating      513 non-null    float64\n",
      " 8   Producer_rating      513 non-null    float64\n",
      " 9   Critic_rating        511 non-null    float64\n",
      " 10  Trailer_views        513 non-null    int64  \n",
      " 11  3D_available         508 non-null    object \n",
      " 12  Time_taken           501 non-null    float64\n",
      " 13  Twitter_hastags      513 non-null    float64\n",
      " 14  Genre                513 non-null    object \n",
      " 15  Avg_age_actors       513 non-null    int64  \n",
      " 16  Num_multiplex        513 non-null    int64  \n",
      " 17  Collection           513 non-null    int64  \n",
      " 18  Tech_Oscar           513 non-null    int64  \n",
      "dtypes: float64(12), int64(5), object(2)\n",
      "memory usage: 76.3+ KB\n"
     ]
    }
   ],
   "source": [
    "df.info()"
   ]
  },
  {
   "cell_type": "code",
   "execution_count": 104,
   "id": "07c4bf4a",
   "metadata": {},
   "outputs": [
    {
     "name": "stdout",
     "output_type": "stream",
     "text": [
      "Missing values in each column:\n",
      "Marketing expense       0\n",
      "Production expense      0\n",
      "Multiplex coverage      0\n",
      "Budget                 12\n",
      "Movie_length            0\n",
      "Lead_ Actor_Rating      0\n",
      "Lead_Actress_rating     5\n",
      "Director_rating         0\n",
      "Producer_rating         0\n",
      "Critic_rating           2\n",
      "Trailer_views           0\n",
      "3D_available            5\n",
      "Time_taken             12\n",
      "Twitter_hastags         0\n",
      "Genre                   0\n",
      "Avg_age_actors          0\n",
      "Num_multiplex           0\n",
      "Collection              0\n",
      "Tech_Oscar              0\n",
      "dtype: int64\n",
      "\n",
      "Data types of each column:\n",
      "Marketing expense      float64\n",
      "Production expense     float64\n",
      "Multiplex coverage     float64\n",
      "Budget                 float64\n",
      "Movie_length           float64\n",
      "Lead_ Actor_Rating     float64\n",
      "Lead_Actress_rating    float64\n",
      "Director_rating        float64\n",
      "Producer_rating        float64\n",
      "Critic_rating          float64\n",
      "Trailer_views            int64\n",
      "3D_available            object\n",
      "Time_taken             float64\n",
      "Twitter_hastags        float64\n",
      "Genre                   object\n",
      "Avg_age_actors           int64\n",
      "Num_multiplex            int64\n",
      "Collection               int64\n",
      "Tech_Oscar               int64\n",
      "dtype: object\n"
     ]
    }
   ],
   "source": [
    "# Check for missing values\n",
    "missing_values = df.isnull().sum()\n",
    "\n",
    "# Display the missing values\n",
    "print(\"Missing values in each column:\")\n",
    "print(missing_values)\n",
    "\n",
    "# Display the data types\n",
    "print(\"\\nData types of each column:\")\n",
    "print(df.dtypes)"
   ]
  },
  {
   "cell_type": "code",
   "execution_count": 105,
   "id": "984a5336",
   "metadata": {},
   "outputs": [],
   "source": [
    "# Fill missing values with mean for numerical columns\n",
    "numerical_cols = ['Budget', 'Lead_Actress_rating', 'Critic_rating', 'Time_taken']\n",
    "for col in numerical_cols:\n",
    "    df[col].fillna(df[col].mean(), inplace=True)"
   ]
  },
  {
   "cell_type": "code",
   "execution_count": null,
   "id": "7362a97f",
   "metadata": {},
   "outputs": [],
   "source": [
    "# Fill missing values with mode for categorical column\n",
    "df['3D_available'].fillna(df['3D_available'].mode()[0], inplace=True)"
   ]
  },
  {
   "cell_type": "code",
   "execution_count": 106,
   "id": "3c31b72b",
   "metadata": {},
   "outputs": [
    {
     "name": "stdout",
     "output_type": "stream",
     "text": [
      "Missing values in each column a:\n",
      "Marketing expense      0\n",
      "Production expense     0\n",
      "Multiplex coverage     0\n",
      "Budget                 0\n",
      "Movie_length           0\n",
      "Lead_ Actor_Rating     0\n",
      "Lead_Actress_rating    0\n",
      "Director_rating        0\n",
      "Producer_rating        0\n",
      "Critic_rating          0\n",
      "Trailer_views          0\n",
      "3D_available           5\n",
      "Time_taken             0\n",
      "Twitter_hastags        0\n",
      "Genre                  0\n",
      "Avg_age_actors         0\n",
      "Num_multiplex          0\n",
      "Collection             0\n",
      "Tech_Oscar             0\n",
      "dtype: int64\n"
     ]
    }
   ],
   "source": [
    "# Check for missing values after removal os misssing values\n",
    "missing_values = df.isnull().sum()\n",
    "# Display the missing values after removal of missing values\n",
    "print(\"Missing values in each column a:\")\n",
    "print(missing_values)\n"
   ]
  },
  {
   "cell_type": "code",
   "execution_count": 107,
   "id": "f2f44701",
   "metadata": {},
   "outputs": [],
   "source": [
    "# One-hot encode categorical variables\n",
    "df = pd.get_dummies(df, columns=['3D_available', 'Genre'])"
   ]
  },
  {
   "cell_type": "code",
   "execution_count": 108,
   "id": "ee2ca069",
   "metadata": {},
   "outputs": [
    {
     "name": "stdout",
     "output_type": "stream",
     "text": [
      "Number of duplicates before removal: 7\n"
     ]
    }
   ],
   "source": [
    "# Check for duplicates\n",
    "num_duplicates = df.duplicated().sum()\n",
    "print(f\"Number of duplicates before removal: {num_duplicates}\")"
   ]
  },
  {
   "cell_type": "code",
   "execution_count": 109,
   "id": "3c173d10",
   "metadata": {},
   "outputs": [],
   "source": [
    "# Remove duplicates\n",
    "df = df.drop_duplicates()"
   ]
  },
  {
   "cell_type": "code",
   "execution_count": 111,
   "id": "90d5d405",
   "metadata": {},
   "outputs": [
    {
     "name": "stdout",
     "output_type": "stream",
     "text": [
      "Number of duplicates after removal: 0\n"
     ]
    }
   ],
   "source": [
    "# Check and print the number of duplicates after removal\n",
    "num_duplicates = df.duplicated().sum()\n",
    "print(f\"Number of duplicates after removal: {num_duplicates}\")"
   ]
  },
  {
   "cell_type": "code",
   "execution_count": 112,
   "id": "c9fe4755",
   "metadata": {},
   "outputs": [
    {
     "name": "stdout",
     "output_type": "stream",
     "text": [
      "Number of outliers identified using IQR method: 119\n"
     ]
    }
   ],
   "source": [
    "#outliers detection\n",
    "\n",
    "# Select numerical columns\n",
    "num_cols = df.select_dtypes(include=['float64', 'int64']).columns\n",
    "\n",
    "# Calculate the first quartile (Q1) and third quartile (Q3)\n",
    "Q1 = df[num_cols].quantile(0.25)\n",
    "Q3 = df[num_cols].quantile(0.75)\n",
    "\n",
    "# Interquartile range (IQR)\n",
    "IQR = Q3 - Q1\n",
    "\n",
    "# Define the outlier step\n",
    "outlier_step = 1.5 * IQR\n",
    "\n",
    "# Identify outliers\n",
    "outliers_iqr = ((df[num_cols] < (Q1 - outlier_step)) | (df[num_cols] > (Q3 + outlier_step))).any(axis=1)\n",
    "\n",
    "# Count the number of outliers\n",
    "num_outliers_iqr = outliers_iqr.sum()\n",
    "print(f'Number of outliers identified using IQR method: {num_outliers_iqr}')\n"
   ]
  },
  {
   "cell_type": "code",
   "execution_count": 113,
   "id": "d8e5a312",
   "metadata": {},
   "outputs": [
    {
     "data": {
      "image/png": "[encoded data removed]",
      "text/plain": [
       "<Figure size 1000x800 with 4 Axes>"
      ]
     },
     "metadata": {},
     "output_type": "display_data"
    }
   ],
   "source": [
    "# Handle outliers using IQR method and plot the outliers\n",
    "plt.figure(figsize=(10, 8))\n",
    "for i, col in enumerate(numerical_cols):\n",
    "    plt.subplot(2, 2, i + 1)\n",
    "    sns.boxplot(x=df[col])\n",
    "    plt.title(f'Boxplot of {col}')\n",
    "    Q1 = df[col].quantile(0.25)\n",
    "    Q3 = df[col].quantile(0.75)\n",
    "    IQR = Q3 - Q1\n",
    "    lower_bound = Q1 - 1.5 * IQR\n",
    "    upper_bound = Q3 + 1.5 * IQR\n",
    "    df = df[(df[col] >= lower_bound) & (df[col] <= upper_bound)]\n",
    "plt.tight_layout()\n",
    "plt.show()"
   ]
  },
  {
   "cell_type": "code",
   "execution_count": 114,
   "id": "7ac0ee77",
   "metadata": {},
   "outputs": [
    {
     "name": "stdout",
     "output_type": "stream",
     "text": [
      "Number of remaining outliers after cleaning using IQR method: 0\n"
     ]
    }
   ],
   "source": [
    "# Identify outliers\n",
    "outliers = ((df[num_cols] < (Q1 - outlier_step)) | (df[num_cols] > (Q3 + outlier_step))).any(axis=1)\n",
    "\n",
    "# Remove outliers\n",
    "df_cleaned = df[~outliers]\n",
    "\n",
    "# Check for remaining outliers in the cleaned data\n",
    "Q1_cleaned = df_cleaned[num_cols].quantile(0.25)\n",
    "Q3_cleaned = df_cleaned[num_cols].quantile(0.75)\n",
    "IQR_cleaned = Q3_cleaned - Q1_cleaned\n",
    "outlier_step_cleaned = 1.5 * IQR_cleaned\n",
    "\n",
    "# Identify remaining outliers\n",
    "remaining_outliers = ((df_cleaned[num_cols] < (Q1_cleaned - outlier_step_cleaned)) | (df_cleaned[num_cols] > (Q3_cleaned + outlier_step_cleaned))).any(axis=1)\n",
    "\n",
    "# Count the number of remaining outliers\n",
    "num_remaining_outliers = remaining_outliers.sum()\n",
    "print(f'Number of remaining outliers after cleaning using IQR method: {num_remaining_outliers}')"
   ]
  },
  {
   "cell_type": "code",
   "execution_count": 115,
   "id": "46191424",
   "metadata": {},
   "outputs": [],
   "source": [
    "# Separate features and target variable\n",
    "X = df.drop('Tech_Oscar', axis=1)\n",
    "y = df['Tech_Oscar']"
   ]
  },
  {
   "cell_type": "code",
   "execution_count": 116,
   "id": "3d16f9f1",
   "metadata": {},
   "outputs": [],
   "source": [
    "# Standardize the features\n",
    "scaler = StandardScaler()\n",
    "X = scaler.fit_transform(X)"
   ]
  },
  {
   "cell_type": "code",
   "execution_count": 117,
   "id": "2e0ff0a2",
   "metadata": {},
   "outputs": [],
   "source": [
    "# Define the KNN model\n",
    "knn = KNeighborsClassifier(n_neighbors=5)  # n_neighbors is the k value"
   ]
  },
  {
   "cell_type": "code",
   "execution_count": 118,
   "id": "f0388ba5",
   "metadata": {},
   "outputs": [],
   "source": [
    "# Train and evaluate the model using cross-validation\n",
    "cv_scores = cross_val_score(knn, X, y, cv=10, scoring='accuracy')\n",
    "mean_cv_score = cv_scores.mean()"
   ]
  },
  {
   "cell_type": "code",
   "execution_count": 119,
   "id": "38f877bb",
   "metadata": {},
   "outputs": [],
   "source": [
    "# Fit the model on the entire dataset\n",
    "knn.fit(X, y)\n",
    "y_pred = knn.predict(X)"
   ]
  },
  {
   "cell_type": "code",
   "execution_count": 120,
   "id": "83571bf4",
   "metadata": {},
   "outputs": [],
   "source": [
    "# Evaluate the model\n",
    "classification_rep = classification_report(y, y_pred)\n",
    "accuracy = accuracy_score(y, y_pred)"
   ]
  },
  {
   "cell_type": "code",
   "execution_count": 121,
   "id": "b30d7692",
   "metadata": {},
   "outputs": [
    {
     "data": {
      "image/png": "[encoded data removed]",
      "text/plain": [
       "<Figure size 800x600 with 1 Axes>"
      ]
     },
     "metadata": {},
     "output_type": "display_data"
    }
   ],
   "source": [
    "# Plotting cross-validation scores\n",
    "plt.figure(figsize=(8, 6))\n",
    "plt.plot(cv_scores, marker='o', linestyle='-', color='b')\n",
    "plt.title('Cross-Validation Scores')\n",
    "plt.xlabel('Fold')\n",
    "plt.ylabel('Accuracy')\n",
    "plt.ylim(0, 1)\n",
    "plt.grid(True)\n",
    "plt.show()"
   ]
  },
  {
   "cell_type": "code",
   "execution_count": 122,
   "id": "27533965",
   "metadata": {},
   "outputs": [],
   "source": [
    "# Plotting confusion matrix\n",
    "from sklearn.metrics import ConfusionMatrixDisplay"
   ]
  },
  {
   "cell_type": "code",
   "execution_count": 123,
   "id": "c6130d74",
   "metadata": {},
   "outputs": [
    {
     "data": {
      "image/png": "[encoded data removed]",
      "text/plain": [
       "<Figure size 640x480 with 2 Axes>"
      ]
     },
     "metadata": {},
     "output_type": "display_data"
    }
   ],
   "source": [
    "ConfusionMatrixDisplay.from_estimator(knn, X, y)\n",
    "plt.title('Confusion Matrix')\n",
    "plt.show()"
   ]
  },
  {
   "cell_type": "code",
   "execution_count": 124,
   "id": "7e1770f4",
   "metadata": {},
   "outputs": [
    {
     "name": "stdout",
     "output_type": "stream",
     "text": [
      "Classification Report:\n",
      "              precision    recall  f1-score   support\n",
      "\n",
      "           0       0.66      0.70      0.68       224\n",
      "           1       0.71      0.67      0.69       245\n",
      "\n",
      "    accuracy                           0.68       469\n",
      "   macro avg       0.68      0.69      0.68       469\n",
      "weighted avg       0.69      0.68      0.68       469\n",
      "\n",
      "Accuracy: 0.68\n",
      "Cross-Validation Accuracy: 0.48\n"
     ]
    }
   ],
   "source": [
    "print(\"Classification Report:\")\n",
    "print(classification_rep)\n",
    "print(f\"Accuracy: {accuracy:.2f}\")\n",
    "print(f\"Cross-Validation Accuracy: {mean_cv_score:.2f}\")"
   ]
  },
  {
   "cell_type": "code",
   "execution_count": null,
   "id": "fe65afda",
   "metadata": {},
   "outputs": [],
   "source": []
  },
  {
   "cell_type": "markdown",
   "id": "12d4099c",
   "metadata": {},
   "source": [
    "# WITH EXTENDED DATASET"
   ]
  },
  {
   "cell_type": "code",
   "execution_count": 75,
   "id": "fa97dc92",
   "metadata": {},
   "outputs": [],
   "source": [
    "#Import the libraries:\n",
    "import pandas as pd\n",
    "import numpy as np\n",
    "import matplotlib.pyplot as plt\n",
    "import seaborn as sns\n",
    "from sklearn.model_selection import train_test_split, cross_val_score\n",
    "from sklearn.preprocessing import StandardScaler\n",
    "from sklearn.neighbors import KNeighborsClassifier\n",
    "from sklearn.metrics import classification_report, accuracy_score"
   ]
  },
  {
   "cell_type": "code",
   "execution_count": 76,
   "id": "0fef8759",
   "metadata": {},
   "outputs": [],
   "source": [
    "# Load the dataset\n",
    "file_path = 'extended_data.csv'\n",
    "df = pd.read_csv(file_path)"
   ]
  },
  {
   "cell_type": "code",
   "execution_count": 77,
   "id": "4a644a93",
   "metadata": {},
   "outputs": [
    {
     "data": {
      "text/html": [
       "<div>\n",
       "<style scoped>\n",
       "    .dataframe tbody tr th:only-of-type {\n",
       "        vertical-align: middle;\n",
       "    }\n",
       "\n",
       "    .dataframe tbody tr th {\n",
       "        vertical-align: top;\n",
       "    }\n",
       "\n",
       "    .dataframe thead th {\n",
       "        text-align: right;\n",
       "    }\n",
       "</style>\n",
       "<table border=\"1\" class=\"dataframe\">\n",
       "  <thead>\n",
       "    <tr style=\"text-align: right;\">\n",
       "      <th></th>\n",
       "      <th>Marketing expense</th>\n",
       "      <th>Production expense</th>\n",
       "      <th>Multiplex coverage</th>\n",
       "      <th>Budget</th>\n",
       "      <th>Movie_length</th>\n",
       "      <th>Lead_ Actor_Rating</th>\n",
       "      <th>Lead_Actress_rating</th>\n",
       "      <th>Director_rating</th>\n",
       "      <th>Producer_rating</th>\n",
       "      <th>Critic_rating</th>\n",
       "      <th>Trailer_views</th>\n",
       "      <th>3D_available</th>\n",
       "      <th>Time_taken</th>\n",
       "      <th>Twitter_hastags</th>\n",
       "      <th>Genre</th>\n",
       "      <th>Avg_age_actors</th>\n",
       "      <th>Num_multiplex</th>\n",
       "      <th>Collection</th>\n",
       "      <th>Tech_Oscar</th>\n",
       "    </tr>\n",
       "  </thead>\n",
       "  <tbody>\n",
       "    <tr>\n",
       "      <th>0</th>\n",
       "      <td>20.1264</td>\n",
       "      <td>59.62</td>\n",
       "      <td>0.462</td>\n",
       "      <td>36524.125</td>\n",
       "      <td>138.7</td>\n",
       "      <td>7.825</td>\n",
       "      <td>8.095</td>\n",
       "      <td>7.910</td>\n",
       "      <td>7.995</td>\n",
       "      <td>7.94</td>\n",
       "      <td>527367.0</td>\n",
       "      <td>YES</td>\n",
       "      <td>109.60</td>\n",
       "      <td>223.840</td>\n",
       "      <td>Thriller</td>\n",
       "      <td>23.0</td>\n",
       "      <td>494.0</td>\n",
       "      <td>48000.0</td>\n",
       "      <td>1</td>\n",
       "    </tr>\n",
       "    <tr>\n",
       "      <th>1</th>\n",
       "      <td>20.5462</td>\n",
       "      <td>69.14</td>\n",
       "      <td>0.531</td>\n",
       "      <td>35668.655</td>\n",
       "      <td>152.4</td>\n",
       "      <td>7.505</td>\n",
       "      <td>7.650</td>\n",
       "      <td>7.440</td>\n",
       "      <td>7.470</td>\n",
       "      <td>7.44</td>\n",
       "      <td>494055.0</td>\n",
       "      <td>NO</td>\n",
       "      <td>146.64</td>\n",
       "      <td>243.456</td>\n",
       "      <td>Drama</td>\n",
       "      <td>42.0</td>\n",
       "      <td>462.0</td>\n",
       "      <td>43200.0</td>\n",
       "      <td>0</td>\n",
       "    </tr>\n",
       "    <tr>\n",
       "      <th>2</th>\n",
       "      <td>20.5458</td>\n",
       "      <td>69.14</td>\n",
       "      <td>0.531</td>\n",
       "      <td>39912.675</td>\n",
       "      <td>134.6</td>\n",
       "      <td>7.485</td>\n",
       "      <td>7.570</td>\n",
       "      <td>7.495</td>\n",
       "      <td>7.515</td>\n",
       "      <td>7.44</td>\n",
       "      <td>547051.0</td>\n",
       "      <td>NO</td>\n",
       "      <td>147.88</td>\n",
       "      <td>2022.400</td>\n",
       "      <td>Comedy</td>\n",
       "      <td>38.0</td>\n",
       "      <td>458.0</td>\n",
       "      <td>69400.0</td>\n",
       "      <td>1</td>\n",
       "    </tr>\n",
       "    <tr>\n",
       "      <th>3</th>\n",
       "      <td>20.6474</td>\n",
       "      <td>59.36</td>\n",
       "      <td>0.542</td>\n",
       "      <td>38873.890</td>\n",
       "      <td>119.3</td>\n",
       "      <td>6.895</td>\n",
       "      <td>7.035</td>\n",
       "      <td>6.920</td>\n",
       "      <td>7.020</td>\n",
       "      <td>8.26</td>\n",
       "      <td>516279.0</td>\n",
       "      <td>YES</td>\n",
       "      <td>185.36</td>\n",
       "      <td>225.344</td>\n",
       "      <td>Drama</td>\n",
       "      <td>45.0</td>\n",
       "      <td>472.0</td>\n",
       "      <td>66800.0</td>\n",
       "      <td>1</td>\n",
       "    </tr>\n",
       "    <tr>\n",
       "      <th>4</th>\n",
       "      <td>21.3810</td>\n",
       "      <td>59.36</td>\n",
       "      <td>0.542</td>\n",
       "      <td>39701.585</td>\n",
       "      <td>127.7</td>\n",
       "      <td>6.920</td>\n",
       "      <td>7.070</td>\n",
       "      <td>6.815</td>\n",
       "      <td>7.070</td>\n",
       "      <td>8.26</td>\n",
       "      <td>531448.0</td>\n",
       "      <td>NO</td>\n",
       "      <td>176.48</td>\n",
       "      <td>225.792</td>\n",
       "      <td>Drama</td>\n",
       "      <td>55.0</td>\n",
       "      <td>395.0</td>\n",
       "      <td>72400.0</td>\n",
       "      <td>1</td>\n",
       "    </tr>\n",
       "  </tbody>\n",
       "</table>\n",
       "</div>"
      ],
      "text/plain": [
       "   Marketing expense  Production expense  Multiplex coverage     Budget  \\\n",
       "0            20.1264               59.62               0.462  36524.125   \n",
       "1            20.5462               69.14               0.531  35668.655   \n",
       "2            20.5458               69.14               0.531  39912.675   \n",
       "3            20.6474               59.36               0.542  38873.890   \n",
       "4            21.3810               59.36               0.542  39701.585   \n",
       "\n",
       "   Movie_length  Lead_ Actor_Rating  Lead_Actress_rating  Director_rating  \\\n",
       "0         138.7               7.825                8.095            7.910   \n",
       "1         152.4               7.505                7.650            7.440   \n",
       "2         134.6               7.485                7.570            7.495   \n",
       "3         119.3               6.895                7.035            6.920   \n",
       "4         127.7               6.920                7.070            6.815   \n",
       "\n",
       "   Producer_rating  Critic_rating  Trailer_views 3D_available  Time_taken  \\\n",
       "0            7.995           7.94       527367.0          YES      109.60   \n",
       "1            7.470           7.44       494055.0           NO      146.64   \n",
       "2            7.515           7.44       547051.0           NO      147.88   \n",
       "3            7.020           8.26       516279.0          YES      185.36   \n",
       "4            7.070           8.26       531448.0           NO      176.48   \n",
       "\n",
       "   Twitter_hastags     Genre  Avg_age_actors  Num_multiplex  Collection  \\\n",
       "0          223.840  Thriller            23.0          494.0     48000.0   \n",
       "1          243.456     Drama            42.0          462.0     43200.0   \n",
       "2         2022.400    Comedy            38.0          458.0     69400.0   \n",
       "3          225.344     Drama            45.0          472.0     66800.0   \n",
       "4          225.792     Drama            55.0          395.0     72400.0   \n",
       "\n",
       "   Tech_Oscar  \n",
       "0           1  \n",
       "1           0  \n",
       "2           1  \n",
       "3           1  \n",
       "4           1  "
      ]
     },
     "execution_count": 77,
     "metadata": {},
     "output_type": "execute_result"
    }
   ],
   "source": [
    "# Display the first few rows and basic info of the dataset\n",
    "df.head()"
   ]
  },
  {
   "cell_type": "code",
   "execution_count": 78,
   "id": "736ec844",
   "metadata": {},
   "outputs": [
    {
     "name": "stdout",
     "output_type": "stream",
     "text": [
      "<class 'pandas.core.frame.DataFrame'>\n",
      "RangeIndex: 613 entries, 0 to 612\n",
      "Data columns (total 19 columns):\n",
      " #   Column               Non-Null Count  Dtype  \n",
      "---  ------               --------------  -----  \n",
      " 0   Marketing expense    613 non-null    float64\n",
      " 1   Production expense   613 non-null    float64\n",
      " 2   Multiplex coverage   613 non-null    float64\n",
      " 3   Budget               601 non-null    float64\n",
      " 4   Movie_length         613 non-null    float64\n",
      " 5   Lead_ Actor_Rating   613 non-null    float64\n",
      " 6   Lead_Actress_rating  608 non-null    float64\n",
      " 7   Director_rating      613 non-null    float64\n",
      " 8   Producer_rating      613 non-null    float64\n",
      " 9   Critic_rating        611 non-null    float64\n",
      " 10  Trailer_views        613 non-null    float64\n",
      " 11  3D_available         608 non-null    object \n",
      " 12  Time_taken           601 non-null    float64\n",
      " 13  Twitter_hastags      613 non-null    float64\n",
      " 14  Genre                613 non-null    object \n",
      " 15  Avg_age_actors       613 non-null    float64\n",
      " 16  Num_multiplex        613 non-null    float64\n",
      " 17  Collection           613 non-null    float64\n",
      " 18  Tech_Oscar           613 non-null    int64  \n",
      "dtypes: float64(16), int64(1), object(2)\n",
      "memory usage: 91.1+ KB\n"
     ]
    }
   ],
   "source": [
    "df.info()"
   ]
  },
  {
   "cell_type": "code",
   "execution_count": 79,
   "id": "07890a75",
   "metadata": {},
   "outputs": [
    {
     "name": "stdout",
     "output_type": "stream",
     "text": [
      "Missing values in each column:\n",
      "Marketing expense       0\n",
      "Production expense      0\n",
      "Multiplex coverage      0\n",
      "Budget                 12\n",
      "Movie_length            0\n",
      "Lead_ Actor_Rating      0\n",
      "Lead_Actress_rating     5\n",
      "Director_rating         0\n",
      "Producer_rating         0\n",
      "Critic_rating           2\n",
      "Trailer_views           0\n",
      "3D_available            5\n",
      "Time_taken             12\n",
      "Twitter_hastags         0\n",
      "Genre                   0\n",
      "Avg_age_actors          0\n",
      "Num_multiplex           0\n",
      "Collection              0\n",
      "Tech_Oscar              0\n",
      "dtype: int64\n",
      "\n",
      "Data types of each column:\n",
      "Marketing expense      float64\n",
      "Production expense     float64\n",
      "Multiplex coverage     float64\n",
      "Budget                 float64\n",
      "Movie_length           float64\n",
      "Lead_ Actor_Rating     float64\n",
      "Lead_Actress_rating    float64\n",
      "Director_rating        float64\n",
      "Producer_rating        float64\n",
      "Critic_rating          float64\n",
      "Trailer_views          float64\n",
      "3D_available            object\n",
      "Time_taken             float64\n",
      "Twitter_hastags        float64\n",
      "Genre                   object\n",
      "Avg_age_actors         float64\n",
      "Num_multiplex          float64\n",
      "Collection             float64\n",
      "Tech_Oscar               int64\n",
      "dtype: object\n"
     ]
    }
   ],
   "source": [
    "# Check for missing values\n",
    "missing_values = df.isnull().sum()\n",
    "\n",
    "# Display the missing values\n",
    "print(\"Missing values in each column:\")\n",
    "print(missing_values)\n",
    "\n",
    "# Display the data types\n",
    "print(\"\\nData types of each column:\")\n",
    "print(df.dtypes)"
   ]
  },
  {
   "cell_type": "code",
   "execution_count": 80,
   "id": "b43d4d05",
   "metadata": {},
   "outputs": [],
   "source": [
    "# Fill missing values with mean for numerical columns\n",
    "numerical_cols = ['Budget', 'Lead_Actress_rating', 'Critic_rating', 'Time_taken']\n",
    "for col in numerical_cols:\n",
    "    df[col].fillna(df[col].mean(), inplace=True)"
   ]
  },
  {
   "cell_type": "code",
   "execution_count": 81,
   "id": "1757a78a",
   "metadata": {},
   "outputs": [],
   "source": [
    "# Fill missing values with mode for categorical column\n",
    "df['3D_available'].fillna(df['3D_available'].mode()[0], inplace=True)"
   ]
  },
  {
   "cell_type": "code",
   "execution_count": 82,
   "id": "d0b9a8b3",
   "metadata": {},
   "outputs": [
    {
     "name": "stdout",
     "output_type": "stream",
     "text": [
      "Missing values in each column a:\n",
      "Marketing expense      0\n",
      "Production expense     0\n",
      "Multiplex coverage     0\n",
      "Budget                 0\n",
      "Movie_length           0\n",
      "Lead_ Actor_Rating     0\n",
      "Lead_Actress_rating    0\n",
      "Director_rating        0\n",
      "Producer_rating        0\n",
      "Critic_rating          0\n",
      "Trailer_views          0\n",
      "3D_available           0\n",
      "Time_taken             0\n",
      "Twitter_hastags        0\n",
      "Genre                  0\n",
      "Avg_age_actors         0\n",
      "Num_multiplex          0\n",
      "Collection             0\n",
      "Tech_Oscar             0\n",
      "dtype: int64\n"
     ]
    }
   ],
   "source": [
    "# Check for missing values after removal os misssing values\n",
    "missing_values = df.isnull().sum()\n",
    "# Display the missing values after removal of missing values\n",
    "print(\"Missing values in each column a:\")\n",
    "print(missing_values)\n"
   ]
  },
  {
   "cell_type": "code",
   "execution_count": 83,
   "id": "97666da2",
   "metadata": {},
   "outputs": [],
   "source": [
    "# One-hot encode categorical variables\n",
    "df = pd.get_dummies(df, columns=['3D_available', 'Genre'])"
   ]
  },
  {
   "cell_type": "code",
   "execution_count": 84,
   "id": "70784935",
   "metadata": {},
   "outputs": [
    {
     "name": "stdout",
     "output_type": "stream",
     "text": [
      "Number of duplicates before removal: 7\n"
     ]
    }
   ],
   "source": [
    "# Check for duplicates\n",
    "num_duplicates = df.duplicated().sum()\n",
    "print(f\"Number of duplicates before removal: {num_duplicates}\")"
   ]
  },
  {
   "cell_type": "code",
   "execution_count": 85,
   "id": "9534eac9",
   "metadata": {},
   "outputs": [],
   "source": [
    "# Remove duplicates\n",
    "df = df.drop_duplicates()"
   ]
  },
  {
   "cell_type": "code",
   "execution_count": 86,
   "id": "efbc2f0c",
   "metadata": {},
   "outputs": [
    {
     "name": "stdout",
     "output_type": "stream",
     "text": [
      "Number of duplicates after removal: 0\n"
     ]
    }
   ],
   "source": [
    "# Check and print the number of duplicates after removal\n",
    "num_duplicates = df.duplicated().sum()\n",
    "print(f\"Number of duplicates after removal: {num_duplicates}\")"
   ]
  },
  {
   "cell_type": "code",
   "execution_count": 87,
   "id": "5dcd7fa8",
   "metadata": {},
   "outputs": [
    {
     "name": "stdout",
     "output_type": "stream",
     "text": [
      "Number of outliers identified using IQR method: 255\n"
     ]
    }
   ],
   "source": [
    "\n",
    "\n",
    "#outliers detection\n",
    "\n",
    "# Select numerical columns\n",
    "num_cols = df.select_dtypes(include=['float64', 'int64']).columns\n",
    "\n",
    "# Calculate the first quartile (Q1) and third quartile (Q3)\n",
    "Q1 = df[num_cols].quantile(0.25)\n",
    "Q3 = df[num_cols].quantile(0.75)\n",
    "\n",
    "# Interquartile range (IQR)\n",
    "IQR = Q3 - Q1\n",
    "\n",
    "# Define the outlier step\n",
    "outlier_step = 1.5 * IQR\n",
    "\n",
    "# Identify outliers\n",
    "outliers_iqr = ((df[num_cols] < (Q1 - outlier_step)) | (df[num_cols] > (Q3 + outlier_step))).any(axis=1)\n",
    "\n",
    "# Count the number of outliers\n",
    "num_outliers_iqr = outliers_iqr.sum()\n",
    "print(f'Number of outliers identified using IQR method: {num_outliers_iqr}')\n"
   ]
  },
  {
   "cell_type": "code",
   "execution_count": 88,
   "id": "ec033a46",
   "metadata": {},
   "outputs": [
    {
     "data": {
      "image/png": "[encoded data removed]",
      "text/plain": [
       "<Figure size 1000x800 with 4 Axes>"
      ]
     },
     "metadata": {},
     "output_type": "display_data"
    }
   ],
   "source": [
    "# Handle outliers using IQR method and plot the outliers\n",
    "plt.figure(figsize=(10, 8))\n",
    "for i, col in enumerate(numerical_cols):\n",
    "    plt.subplot(2, 2, i + 1)\n",
    "    sns.boxplot(x=df[col])\n",
    "    plt.title(f'Boxplot of {col}')\n",
    "    Q1 = df[col].quantile(0.25)\n",
    "    Q3 = df[col].quantile(0.75)\n",
    "    IQR = Q3 - Q1\n",
    "    lower_bound = Q1 - 1.5 * IQR\n",
    "    upper_bound = Q3 + 1.5 * IQR\n",
    "    df = df[(df[col] >= lower_bound) & (df[col] <= upper_bound)]\n",
    "plt.tight_layout()\n",
    "plt.show()"
   ]
  },
  {
   "cell_type": "code",
   "execution_count": 89,
   "id": "58affbb2",
   "metadata": {},
   "outputs": [
    {
     "name": "stdout",
     "output_type": "stream",
     "text": [
      "Number of remaining outliers after cleaning using IQR method: 0\n"
     ]
    }
   ],
   "source": [
    "# Identify outliers\n",
    "outliers = ((df[num_cols] < (Q1 - outlier_step)) | (df[num_cols] > (Q3 + outlier_step))).any(axis=1)\n",
    "\n",
    "# Remove outliers\n",
    "df_cleaned = df[~outliers]\n",
    "\n",
    "# Check for remaining outliers in the cleaned data\n",
    "Q1_cleaned = df_cleaned[num_cols].quantile(0.25)\n",
    "Q3_cleaned = df_cleaned[num_cols].quantile(0.75)\n",
    "IQR_cleaned = Q3_cleaned - Q1_cleaned\n",
    "outlier_step_cleaned = 1.5 * IQR_cleaned\n",
    "\n",
    "# Identify remaining outliers\n",
    "remaining_outliers = ((df_cleaned[num_cols] < (Q1_cleaned - outlier_step_cleaned)) | (df_cleaned[num_cols] > (Q3_cleaned + outlier_step_cleaned))).any(axis=1)\n",
    "\n",
    "# Count the number of remaining outliers\n",
    "num_remaining_outliers = remaining_outliers.sum()\n",
    "print(f'Number of remaining outliers after cleaning using IQR method: {num_remaining_outliers}')"
   ]
  },
  {
   "cell_type": "code",
   "execution_count": 90,
   "id": "176336e4",
   "metadata": {},
   "outputs": [],
   "source": [
    "# Separate features and target variable\n",
    "X = df.drop('Tech_Oscar', axis=1)\n",
    "y = df['Tech_Oscar']"
   ]
  },
  {
   "cell_type": "code",
   "execution_count": 91,
   "id": "f14ad68f",
   "metadata": {},
   "outputs": [],
   "source": [
    "# Standardize the features\n",
    "scaler = StandardScaler()\n",
    "X = scaler.fit_transform(X)"
   ]
  },
  {
   "cell_type": "code",
   "execution_count": 92,
   "id": "bfa605ac",
   "metadata": {},
   "outputs": [],
   "source": [
    "# Define the KNN model\n",
    "knn = KNeighborsClassifier(n_neighbors=5)  # n_neighbors is the k value"
   ]
  },
  {
   "cell_type": "code",
   "execution_count": 93,
   "id": "6a846649",
   "metadata": {},
   "outputs": [],
   "source": [
    "# Train and evaluate the model using cross-validation\n",
    "cv_scores = cross_val_score(knn, X, y, cv=10, scoring='accuracy')\n",
    "mean_cv_score = cv_scores.mean()"
   ]
  },
  {
   "cell_type": "code",
   "execution_count": 94,
   "id": "d6bea653",
   "metadata": {},
   "outputs": [],
   "source": [
    "# Fit the model on the entire dataset\n",
    "knn.fit(X, y)\n",
    "y_pred = knn.predict(X)"
   ]
  },
  {
   "cell_type": "code",
   "execution_count": 95,
   "id": "45f7381f",
   "metadata": {},
   "outputs": [],
   "source": [
    "# Evaluate the model\n",
    "classification_rep = classification_report(y, y_pred)\n",
    "accuracy = accuracy_score(y, y_pred)"
   ]
  },
  {
   "cell_type": "code",
   "execution_count": 96,
   "id": "3f571a4a",
   "metadata": {},
   "outputs": [
    {
     "data": {
      "image/png": "[encoded data removed]",
      "text/plain": [
       "<Figure size 800x600 with 1 Axes>"
      ]
     },
     "metadata": {},
     "output_type": "display_data"
    }
   ],
   "source": [
    "# Plotting cross-validation scores\n",
    "plt.figure(figsize=(8, 6))\n",
    "plt.plot(cv_scores, marker='o', linestyle='-', color='b')\n",
    "plt.title('Cross-Validation Scores')\n",
    "plt.xlabel('Fold')\n",
    "plt.ylabel('Accuracy')\n",
    "plt.ylim(0, 1)\n",
    "plt.grid(True)\n",
    "plt.show()"
   ]
  },
  {
   "cell_type": "code",
   "execution_count": 97,
   "id": "2bf3b887",
   "metadata": {},
   "outputs": [],
   "source": [
    "# Plotting confusion matrix\n",
    "from sklearn.metrics import ConfusionMatrixDisplay"
   ]
  },
  {
   "cell_type": "code",
   "execution_count": 98,
   "id": "9c9ab4d0",
   "metadata": {},
   "outputs": [
    {
     "data": {
      "image/png": "[encoded data removed]",
      "text/plain": [
       "<Figure size 640x480 with 2 Axes>"
      ]
     },
     "metadata": {},
     "output_type": "display_data"
    }
   ],
   "source": [
    "ConfusionMatrixDisplay.from_estimator(knn, X, y)\n",
    "plt.title('Confusion Matrix')\n",
    "plt.show()"
   ]
  },
  {
   "cell_type": "code",
   "execution_count": 99,
   "id": "f811df6e",
   "metadata": {},
   "outputs": [
    {
     "name": "stdout",
     "output_type": "stream",
     "text": [
      "Classification Report:\n",
      "              precision    recall  f1-score   support\n",
      "\n",
      "           0       0.67      0.67      0.67       255\n",
      "           1       0.71      0.71      0.71       284\n",
      "\n",
      "    accuracy                           0.69       539\n",
      "   macro avg       0.69      0.69      0.69       539\n",
      "weighted avg       0.69      0.69      0.69       539\n",
      "\n",
      "Accuracy: 0.69\n",
      "Cross-Validation Accuracy: 0.50\n"
     ]
    }
   ],
   "source": [
    "print(\"Classification Report:\")\n",
    "print(classification_rep)\n",
    "print(f\"Accuracy: {accuracy:.2f}\")\n",
    "print(f\"Cross-Validation Accuracy: {mean_cv_score:.2f}\")"
   ]
  },
  {
   "cell_type": "code",
   "execution_count": null,
   "id": "7e6e8f8b",
   "metadata": {},
   "outputs": [],
   "source": []
  },
  {
   "cell_type": "code",
   "execution_count": null,
   "id": "9775fc99",
   "metadata": {},
   "outputs": [],
   "source": []
  },
  {
   "cell_type": "code",
   "execution_count": null,
   "id": "b9731e1b",
   "metadata": {},
   "outputs": [],
   "source": []
  }
 ],
 "metadata": {
  "kernelspec": {
   "display_name": "Python 3 (ipykernel)",
   "language": "python",
   "name": "python3"
  },
  "language_info": {
   "codemirror_mode": {
    "name": "ipython",
    "version": 3
   },
   "file_extension": ".py",
   "mimetype": "text/x-python",
   "name": "python",
   "nbconvert_exporter": "python",
   "pygments_lexer": "ipython3",
   "version": "3.11.7"
  }
 },
 "nbformat": 4,
 "nbformat_minor": 5
}
